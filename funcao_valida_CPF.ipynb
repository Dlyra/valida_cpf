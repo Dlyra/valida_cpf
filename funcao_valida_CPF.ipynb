{
 "cells": [
  {
   "cell_type": "markdown",
   "metadata": {},
   "source": [
    "![](cpf.png)"
   ]
  },
  {
   "cell_type": "markdown",
   "metadata": {},
   "source": [
    "_________\n",
    "# Cálculo do dígito verificador do CPF\n",
    "______"
   ]
  },
  {
   "cell_type": "markdown",
   "metadata": {},
   "source": [
    "### Informação Geral\n",
    "\n",
    "O **CPF (Cadastro de Pessoas Físicas)**, emitido pela Receita Federal, é caracterizado por uma função entre o conjunto das pessoas físicas cadastradas e o conjunto dos documentos emitidos.\n",
    "\n",
    "Ou seja, o fato de um número de CPF ser autenticado pelos seus dígitos verificadores, não o torna um CPF válido, pois é necessário que ele esteja cadastrado no banco de dados da Receita Federal. \n",
    "\n",
    "Assim, um número válido de CPF nem sempre será um documento já emitido. Porém, **os dígitos verificadores servem para alertar que o número foi escrito de forma inadequada**, sem precisar acessar o banco de dados da Receita Federal.\n",
    "\n",
    "____\n",
    "### Regra Prática\n",
    "\n",
    "O número de um CPF tem 9 algarismos e mais dois dígitos verificadores, que são indicados após uma barra.\n",
    "\n",
    "Logo, um **CPF tem 11 algarismos**. \n",
    "\n",
    "O número do CPF é escrito na forma ABCDEFGHI/JK ou diretamente como ABCDEFGHIJK, onde os algarismos não podem ser todos iguais entre si.\n",
    "\n",
    "- O **J** é chamado **1° dígito verificador** do número do CPF.\n",
    "- O **K** é chamado **2° dígito verificador** do número do CPF.\n",
    "\n",
    "\n",
    "#### Primeiro Dígito\n",
    "\n",
    "Para obter J multiplicamos A, B, C, D, E, F, G, H e I pelas constantes correspondentes:\n",
    "\n",
    "\n",
    " A | B | C | D| E| F| G| H| I\n",
    ":---------: | :------: | :-------: | :-------: | :-------: | :-------: | :-------: | :-------: | :-------:\n",
    "x10| x9 | x8 | x7 | x6| x5| x4|x3|x2\n",
    "\n",
    "O resultado da soma, 10A + 9B + 8C + 7D + 6E + 5F + 4G + 3H + 2I, é **dividido por 11**.\n",
    "\n",
    "Analisamos então o **RESTO** dessa divisão:\n",
    "\n",
    "- Se for 0 ou 1, o dígito **J** é [0] (zero). \n",
    "- Se for 2, 3, 4, 5, 6, 7, 8, 9 ou 10, o dígito **J** é [11 - RESTO]\n",
    "\n",
    "#### Segundo Dígito\n",
    "\n",
    "Já temos **J**. \n",
    "\n",
    "Para obter **K** multiplicamos A, B, C, D, E, F, G, H, I e J pelas constantes correspondentes:\n",
    "\n",
    " A | B | C | D| E| F| G| H| I | J\n",
    ":---------: | :------: | :-------: | :-------: | :-------: | :-------: | :-------: | :-------: | :-------: | :-------:\n",
    "x11| x10 | x9 | x8 | x7| x6| x5|x4|x3|x2\n",
    "\n",
    "O resultado da soma, 11A + 10B + 9C + 8D + 7E + 6F + 5G + 4H + 3I + 2J, é **dividido por 11**.\n",
    "\n",
    "Verificamos então o **RESTO** dessa divisão:\n",
    "\n",
    "- Se for 0 ou 1, o dígito **K** é [0] (zero). \n",
    "- Se for 2, 3, 4, 5, 6, 7, 8, 9 ou 10, o dígito **K** é [11 - RESTO].\n",
    "\n",
    "____\n",
    "### Solução\n",
    "\n",
    "Desenvolver e testar uma função que valide se um número de CPF é válido.\n",
    "\n",
    "Condições:\n",
    "\n",
    " - Deve conter 11 dígitos.\n",
    " - Deve ser uma entrada de dígitos exclusivamente, sem texto.\n",
    " - Os números não podem ser todos repetidos.\n",
    " - Os dígitos devem ser cálculados corretamente, pelo cálculo oficial.\n",
    " \n",
    " _______"
   ]
  },
  {
   "cell_type": "code",
   "execution_count": 1,
   "metadata": {},
   "outputs": [],
   "source": [
    "# a função confere_CPF recebe como parâmetro uma string\n",
    "# com o CPF (sem pontos ou hífen). \n",
    "# retorna True se o CPF for válido.\n",
    "def valida_cpf(cpf):\n",
    "    cpf = [int(elemento) for elemento in cpf]\n",
    "    fator1=10\n",
    "    soma_digito1=0\n",
    "    for i in range(0,9):\n",
    "        soma_digito1=soma_digito1+int(cpf[i])*fator1\n",
    "        fator1=fator1-1\n",
    "        \n",
    "    primeiro_digito = (soma_digito1*10)%11\n",
    "    if primeiro_digito == 10:\n",
    "        primeiro_digito = 0\n",
    "    else:\n",
    "        primeiro_digito  \n",
    " \n",
    "    fator2=11\n",
    "    soma_digito2=0\n",
    "    for i in range(0,10):\n",
    "        soma_digito2=soma_digito2+int(cpf[i])*fator2\n",
    "        fator2=fator2-1\n",
    "        \n",
    "    segundo_digito = (soma_digito2*10)%11\n",
    "\n",
    "    if primeiro_digito == cpf[9] and segundo_digito == cpf[10]:\n",
    "        print('Esse CPF é Válido')\n",
    "    else:\n",
    "        print('Esse CPF não é Válido')"
   ]
  },
  {
   "cell_type": "code",
   "execution_count": 2,
   "metadata": {},
   "outputs": [
    {
     "name": "stdin",
     "output_type": "stream",
     "text": [
      "Digite o número do CPF:  631.882.147-31\n"
     ]
    },
    {
     "name": "stdout",
     "output_type": "stream",
     "text": [
      "Esse CPF é Válido\n"
     ]
    }
   ],
   "source": [
    "# programa principal para testar a função confere_CPF\n",
    "# chama a função até que seja informado um cpf válido\n",
    "while True:\n",
    "        cpf = (input(\"Digite o número do CPF: \")).replace('.','').replace('-','')\n",
    "        if len(cpf) == 11:\n",
    "            valida_cpf(cpf)\n",
    "            break\n",
    "        else: \n",
    "            print('Insira um CPF Válido')"
   ]
  },
  {
   "cell_type": "markdown",
   "metadata": {},
   "source": [
    "Foi usado um CPF fictício para validar a função. "
   ]
  },
  {
   "cell_type": "markdown",
   "metadata": {},
   "source": [
    "_____\n",
    "### Conclusão\n",
    "______\n",
    "\n",
    "Utilizando o cálculo validador do dígito verificador, a função desenvolvida propõe como solução validar e identificar se o número de CPF informado se possui um formato válido ou não. \n",
    "\n",
    "Para o teste da função foi utilizado um número de CPF fictício. \n",
    "\n",
    "Vale ressaltar, que essa função não possui o escopo de validar a veracidade do número de CPF informado."
   ]
  }
 ],
 "metadata": {
  "kernelspec": {
   "display_name": "Python 3",
   "language": "python",
   "name": "python3"
  },
  "language_info": {
   "codemirror_mode": {
    "name": "ipython",
    "version": 3
   },
   "file_extension": ".py",
   "mimetype": "text/x-python",
   "name": "python",
   "nbconvert_exporter": "python",
   "pygments_lexer": "ipython3",
   "version": "3.7.7"
  }
 },
 "nbformat": 4,
 "nbformat_minor": 4
}
